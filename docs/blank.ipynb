{
 "cells": [
  {
   "cell_type": "code",
   "execution_count": null,
   "metadata": {},
   "outputs": [],
   "source": [
    "!pip install -q git+https://github.com/revalo/iceberg.git"
   ]
  },
  {
   "cell_type": "code",
   "execution_count": 1,
   "metadata": {},
   "outputs": [],
   "source": [
    "import iceberg as ice"
   ]
  },
  {
   "cell_type": "code",
   "execution_count": 2,
   "metadata": {},
   "outputs": [
    {
     "data": {
      "image/png": "[encoded data removed]",
      "text/plain": [
       "Compose(components=(Blank(rectangle=Bounds(-20.5, -20.5, 84.5, 84.5), background_color=Color(1.0, 1.0, 1.0, 1.0)), Padding(child=Rectangle(rectangle=Bounds(0, 0, 64, 64), border_color=None, fill_color=Color(1.0, 0.0, 1.0, 1.0), border_thickness=1.0, anti_alias=True, border_position=<BorderPosition.CENTER: 'center'>, border_radius=0.0, dont_modify_bounds=False), padding=20)))"
      ]
     },
     "execution_count": 2,
     "metadata": {},
     "output_type": "execute_result"
    }
   ],
   "source": [
    "rectangle = ice.Rectangle(ice.Bounds.from_size(64, 64), fill_color=ice.Colors.MAGENTA)\n",
    "rectangle.pad(20).background(ice.Colors.WHITE)"
   ]
  }
 ],
 "metadata": {
  "kernelspec": {
   "display_name": "jax",
   "language": "python",
   "name": "python3"
  },
  "language_info": {
   "codemirror_mode": {
    "name": "ipython",
    "version": 3
   },
   "file_extension": ".py",
   "mimetype": "text/x-python",
   "name": "python",
   "nbconvert_exporter": "python",
   "pygments_lexer": "ipython3",
   "version": "3.11.5"
  }
 },
 "nbformat": 4,
 "nbformat_minor": 2
}
